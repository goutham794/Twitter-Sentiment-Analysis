{
 "cells": [
  {
   "cell_type": "markdown",
   "metadata": {},
   "source": [
    "# Sentiment Analysis of Indian Politicians"
   ]
  },
  {
   "cell_type": "code",
   "execution_count": 47,
   "metadata": {
    "collapsed": true
   },
   "outputs": [],
   "source": [
    "import tweepy\n",
    "from textblob import TextBlob"
   ]
  },
  {
   "cell_type": "code",
   "execution_count": 48,
   "metadata": {
    "collapsed": true
   },
   "outputs": [],
   "source": [
    "consumer_key = \"92KaXCSJo0uzDTVK328ITiEEc\"\n",
    "consumer_secret = \"qhhcdQrhjYc7cHzZIWUXAc3bH8hSv9w3FodDnFKYBwRghcwOit\"\n",
    "access_token = \"627462272-ImssuYeOXh7pZTSsJ6yeZYVBuc18sCnS0PaQRspG\"\n",
    "access_token_secret = \"1mdAtzi2y2Ii0bykdXc70XbsS5iSYaAgzEv59ofw2kinB\""
   ]
  },
  {
   "cell_type": "code",
   "execution_count": 49,
   "metadata": {
    "collapsed": true
   },
   "outputs": [],
   "source": [
    "auth = tweepy.OAuthHandler(consumer_key, consumer_secret)\n",
    "auth.set_access_token(access_token, access_token_secret)"
   ]
  },
  {
   "cell_type": "code",
   "execution_count": 50,
   "metadata": {
    "collapsed": true
   },
   "outputs": [],
   "source": [
    "api = tweepy.API(auth)"
   ]
  },
  {
   "cell_type": "code",
   "execution_count": 51,
   "metadata": {
    "collapsed": true
   },
   "outputs": [],
   "source": [
    "politicians_list = ['Narendra Modi','Kejriwal','Rahul Gandhi','Arun Jaitley','Yogi Adityanath','Kumaraswamy','Shashi Tharoor',\"Sushma Swaraj\",\"Amit Shah\",\"Mamata Bannerjee\"]"
   ]
  },
  {
   "cell_type": "code",
   "execution_count": 68,
   "metadata": {
    "collapsed": true
   },
   "outputs": [],
   "source": [
    "def sentiment_label(polarity):\n",
    "    if (polarity<0):\n",
    "        return \"Neagtive\"\n",
    "    elif (polarity>0):\n",
    "        return \"Positive\"\n",
    "    else:\n",
    "        return \"Neutral\""
   ]
  },
  {
   "cell_type": "code",
   "execution_count": 71,
   "metadata": {},
   "outputs": [],
   "source": [
    "dictionary = {}\n",
    "for name in politicians_list:\n",
    "    public_tweets = api.search(name,count = 100)\n",
    "    sentiment = 0\n",
    "    with open('%s_tweets.csv' % (name),'w') as file:\n",
    "            file.write(\"tweet,sentiment_label\\n\")\n",
    "            for tweet in public_tweets:\n",
    "                textblob_tweet  = TextBlob(tweet.text)\n",
    "                file.write('%s,%s\\n' % (tweet.text,sentiment_label(textblob_tweet.sentiment.polarity)))\n",
    "                sentiment = sentiment + (textblob_tweet.sentiment.polarity)\n",
    "    dictionary[name] = (sentiment)/100"
   ]
  },
  {
   "cell_type": "code",
   "execution_count": 72,
   "metadata": {},
   "outputs": [
    {
     "name": "stdout",
     "output_type": "stream",
     "text": [
      "{'Narendra Modi': -0.0009292929292929341, 'Kejriwal': 0.017113636363636362, 'Rahul Gandhi': -0.017729797979797988, 'Arun Jaitley': -0.06266507936507933, 'Yogi Adityanath': 0.01075, 'Kumaraswamy': 0.06702905844155843, 'Shashi Tharoor': 0.014499999999999999, 'Sushma Swaraj': -0.0577886904761905, 'Amit Shah': 0.060073209776334756, 'Mamata Bannerjee': 0.15575}\n"
     ]
    }
   ],
   "source": [
    "print(dictionary)"
   ]
  },
  {
   "cell_type": "code",
   "execution_count": 79,
   "metadata": {},
   "outputs": [
    {
     "name": "stdout",
     "output_type": "stream",
     "text": [
      "Politician with most positive sentiment\n",
      "Mamata Bannerjee\n",
      "\n",
      "Politician with most negative sentiment\n",
      "Arun Jaitley\n"
     ]
    }
   ],
   "source": [
    "print(\"Politician with most positive sentiment tweets\")\n",
    "print(max(dictionary, key=dictionary.get))\n",
    "\n",
    "print(\"\\nPolitician with most negative sentiment tweets\")\n",
    "print(min(dictionary, key=dictionary.get))"
   ]
  }
 ],
 "metadata": {
  "kernelspec": {
   "display_name": "Python 3",
   "language": "python",
   "name": "python3"
  },
  "language_info": {
   "codemirror_mode": {
    "name": "ipython",
    "version": 3
   },
   "file_extension": ".py",
   "mimetype": "text/x-python",
   "name": "python",
   "nbconvert_exporter": "python",
   "pygments_lexer": "ipython3",
   "version": "3.6.1"
  }
 },
 "nbformat": 4,
 "nbformat_minor": 2
}
